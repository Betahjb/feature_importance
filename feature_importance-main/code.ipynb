{
 "cells": [
  {
   "cell_type": "markdown",
   "id": "918fa85c",
   "metadata": {},
   "source": [
    "## 目录\n",
    "\n",
    "- [Packages](#0)\n",
    "- [1 开始进行J × K 折交叉验证](#1)\n",
    "- [2 获取特征重要性](#2)\n",
    "- [3 对重要特征进行分析](#3)\n",
    "    - [3.1行人年龄段](#3-1)\n",
    "    - [3.2事故发生时间](#3-2)\n",
    "    - [3.3道路类型](#3-3)\n",
    "    - [3.4道路最高允许车速](#3-4)"
   ]
  },
  {
   "cell_type": "markdown",
   "id": "186e4802",
   "metadata": {},
   "source": [
    "<a name='0'></a>\n",
    "# Packages\n",
    "Run the following cell to load the packages."
   ]
  },
  {
   "cell_type": "code",
   "execution_count": null,
   "id": "2f57381e",
   "metadata": {},
   "outputs": [],
   "source": [
    "import numpy as np\n",
    "import pandas as pd\n",
    "import matplotlib.pyplot as plt\n",
    "from sklearn.utils import shuffle\n",
    "from sklearn.model_selection import cross_val_score\n",
    "from sklearn.ensemble import RandomForestClassifier"
   ]
  },
  {
   "cell_type": "code",
   "execution_count": null,
   "id": "90e89fed",
   "metadata": {},
   "outputs": [],
   "source": [
    "data = pd.read_excel(\"数据集.xlsx\")   "
   ]
  },
  {
   "cell_type": "markdown",
   "id": "efca849f",
   "metadata": {},
   "source": [
    "<img src=\"X&Y.png\" style=\"width:600px;height:800;\">"
   ]
  },
  {
   "cell_type": "code",
   "execution_count": null,
   "id": "6b766990",
   "metadata": {},
   "outputs": [],
   "source": [
    "data.head()"
   ]
  },
  {
   "cell_type": "code",
   "execution_count": null,
   "id": "0e27fb32",
   "metadata": {},
   "outputs": [],
   "source": [
    "data.info()"
   ]
  },
  {
   "cell_type": "markdown",
   "id": "2bfa96a6",
   "metadata": {},
   "source": [
    "<a name='1'></a>\n",
    "# 1 开始进行J × K 折交叉验证"
   ]
  },
  {
   "cell_type": "code",
   "execution_count": null,
   "id": "20695965",
   "metadata": {},
   "outputs": [],
   "source": [
    "rf = RandomForestClassifier()"
   ]
  },
  {
   "cell_type": "markdown",
   "id": "58cf3b49",
   "metadata": {},
   "source": [
    "all_scores：每一次打乱数据集顺序的交叉验证的AUC分数，每次返回5个分数。共有50个分数。\n",
    "                           \n",
    "all_means：每一次打乱数据集顺序的交叉验证的5次AUC得分的均值，每次返回1个分数。共有10个分数。"
   ]
  },
  {
   "cell_type": "code",
   "execution_count": null,
   "id": "986f40a4",
   "metadata": {},
   "outputs": [],
   "source": [
    "all_scores = []\n",
    "all_means = []\n",
    "\n",
    "for i in range(10):\n",
    "    data = shuffle(data)    \n",
    "    scores = cross_val_score(rf, X = data.loc[:,'事故发生时间':'道路类型'], y = data['行人事故后果'], cv=5, scoring='roc_auc')\n",
    "    mean = scores.mean()\n",
    "    all_scores.append(scores)\n",
    "    all_means.append(mean)"
   ]
  },
  {
   "cell_type": "code",
   "execution_count": null,
   "id": "4c79d8fd",
   "metadata": {},
   "outputs": [],
   "source": [
    "all_scores"
   ]
  },
  {
   "cell_type": "code",
   "execution_count": null,
   "id": "403b7136",
   "metadata": {},
   "outputs": [],
   "source": [
    "all_means"
   ]
  },
  {
   "cell_type": "code",
   "execution_count": null,
   "id": "120fd4f6",
   "metadata": {},
   "outputs": [],
   "source": [
    "sum(all_means) / 10    # 所有AUC的均值，即all_means的均值"
   ]
  },
  {
   "cell_type": "markdown",
   "id": "753bf8ca",
   "metadata": {},
   "source": [
    "<a name='2'></a>\n",
    "# 2 获取特征重要性"
   ]
  },
  {
   "cell_type": "code",
   "execution_count": null,
   "id": "b1a3f81a",
   "metadata": {},
   "outputs": [],
   "source": [
    "X = data.loc[:, '事故发生时间':'道路类型']\n",
    "y = data['行人事故后果']\n",
    "X.shape, y.shape"
   ]
  },
  {
   "cell_type": "code",
   "execution_count": null,
   "id": "a7eb1b57",
   "metadata": {},
   "outputs": [],
   "source": [
    "rf = RandomForestClassifier()\n",
    "rf.fit(X, y)\n",
    "y_pred = rf.predict(X) "
   ]
  },
  {
   "cell_type": "code",
   "execution_count": null,
   "id": "a9b0b7d9",
   "metadata": {
    "scrolled": false
   },
   "outputs": [],
   "source": [
    "# 计算特征重要性\n",
    "importances = rf.feature_importances_\n",
    "\n",
    "# 对特征重要性进行排序\n",
    "indices = np.argsort(importances)[::-1]\n",
    "\n",
    "# 获取特征名字\n",
    "names = [X.columns.values[i] for i in indices]\n",
    "\n",
    "#对特征重要性进行排序\n",
    "good = sorted(importances, reverse=True)\n",
    "good = [i * 100 for i in good]    #化为百分号表示"
   ]
  },
  {
   "cell_type": "code",
   "execution_count": null,
   "id": "88e7c622",
   "metadata": {},
   "outputs": [],
   "source": [
    "c = {\"特征\" : names,\n",
    "   \"特征重要度（%）\" : good} \n",
    "fea_imp = pd.DataFrame(c) \n",
    "fea_imp = fea_imp.round(2)    # 保留小数点后两位\n",
    "fea_imp"
   ]
  },
  {
   "cell_type": "code",
   "execution_count": null,
   "id": "5e44c0c2",
   "metadata": {},
   "outputs": [],
   "source": [
    "plt.rcParams['font.sans-serif'] = ['SimHei']   #用来正常显示中文标签\n",
    "\n",
    "fig = plt.figure(figsize = (16,8))\n",
    "\n",
    "plt.barh(fea_imp[\"特征\"], fea_imp[\"特征重要度（%）\"],height = 0.5, color='r')  \n",
    "\n",
    "#显示条形图上的数字\n",
    "for a,b in zip(list(fea_imp[\"特征\"]),list(fea_imp[\"特征重要度（%）\"])):   \n",
    "    plt.text(b+0.1, a,'%.2f'%b, ha = 'left',va = 'center',fontsize=20)\n",
    " \n",
    "plt.xticks(fontsize=20)\n",
    "plt.yticks(fontsize=20)\n",
    "plt.xlim(0,12)\n",
    "plt.xlabel('特征重要度（%）',fontsize=20)\n",
    "plt.ylabel('特征',fontsize=20)\n",
    "plt.show()"
   ]
  },
  {
   "cell_type": "markdown",
   "id": "f2e5034f",
   "metadata": {},
   "source": [
    "<a name='3'></a>\n",
    "# 3 对重要特征进行分析"
   ]
  },
  {
   "cell_type": "markdown",
   "id": "fa0912ce",
   "metadata": {},
   "source": [
    "下面所有表格的行人事故后果属性表示的含义是：行人发生死亡或重伤的占比"
   ]
  },
  {
   "cell_type": "markdown",
   "id": "19d49494",
   "metadata": {},
   "source": [
    "<a name='3-1'></a>\n",
    "3.1行人年龄段"
   ]
  },
  {
   "cell_type": "code",
   "execution_count": null,
   "id": "e7ddb835",
   "metadata": {},
   "outputs": [],
   "source": [
    "map = {'行人年龄段':data[\"行人年龄段\"].value_counts().index,'次数':data[\"行人年龄段\"].value_counts().values}\n",
    "df = pd.DataFrame(map)\n",
    "c = data[[\"行人年龄段\", \"行人事故后果\"]].groupby(['行人年龄段'], as_index=True).mean().sort_values(by='行人事故后果', ascending=False)\n",
    "d31 = pd.merge(c, df,on = '行人年龄段')\n",
    "d31"
   ]
  },
  {
   "cell_type": "markdown",
   "id": "4cbd4e9b",
   "metadata": {},
   "source": [
    "<a name='3-2'></a>\n",
    "3.2事故发生时间"
   ]
  },
  {
   "cell_type": "code",
   "execution_count": null,
   "id": "d18072a9",
   "metadata": {},
   "outputs": [],
   "source": [
    "map = {'事故发生时间':data[\"事故发生时间\"].value_counts().index,'次数':data[\"事故发生时间\"].value_counts().values}\n",
    "df = pd.DataFrame(map)\n",
    "c = data[[\"事故发生时间\", \"行人事故后果\"]].groupby(['事故发生时间'], as_index=True).mean().sort_values(by='行人事故后果', ascending=False)\n",
    "d32 = pd.merge(c, df,on = '事故发生时间')\n",
    "d32"
   ]
  },
  {
   "cell_type": "markdown",
   "id": "27c1e8d0",
   "metadata": {},
   "source": [
    "<a name='3-3'></a>\n",
    "3.3道路类型"
   ]
  },
  {
   "cell_type": "code",
   "execution_count": null,
   "id": "e8a877d2",
   "metadata": {},
   "outputs": [],
   "source": [
    "map = {'道路类型':data[\"道路类型\"].value_counts().index,'次数':data[\"道路类型\"].value_counts().values}\n",
    "df = pd.DataFrame(map)\n",
    "c = data[[\"道路类型\", \"行人事故后果\"]].groupby(['道路类型'], as_index=True).mean().sort_values(by='行人事故后果', ascending=False)\n",
    "d33 = pd.merge(c, df,on = '道路类型')\n",
    "d33"
   ]
  },
  {
   "cell_type": "markdown",
   "id": "acd5961c",
   "metadata": {},
   "source": [
    "<a name='3-4'></a>\n",
    "3.4道路最高允许车速"
   ]
  },
  {
   "cell_type": "code",
   "execution_count": null,
   "id": "d42f812c",
   "metadata": {},
   "outputs": [],
   "source": [
    "map = {'道路最高允许车速':data[\"道路最高允许车速\"].value_counts().index,'次数':data[\"道路最高允许车速\"].value_counts().values}\n",
    "df = pd.DataFrame(map)\n",
    "c = data[[\"道路最高允许车速\", \"行人事故后果\"]].groupby(['道路最高允许车速'], as_index=True).mean().sort_values(by='行人事故后果', ascending=False)\n",
    "d34 = pd.merge(c, df,on = '道路最高允许车速')\n",
    "d34"
   ]
  },
  {
   "cell_type": "code",
   "execution_count": null,
   "id": "f0a5de56",
   "metadata": {},
   "outputs": [],
   "source": []
  }
 ],
 "metadata": {
  "kernelspec": {
   "display_name": "Python 3 (ipykernel)",
   "language": "python",
   "name": "python3"
  },
  "language_info": {
   "codemirror_mode": {
    "name": "ipython",
    "version": 3
   },
   "file_extension": ".py",
   "mimetype": "text/x-python",
   "name": "python",
   "nbconvert_exporter": "python",
   "pygments_lexer": "ipython3",
   "version": "3.9.7"
  }
 },
 "nbformat": 4,
 "nbformat_minor": 5
}
